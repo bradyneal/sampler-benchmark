{
 "cells": [
  {
   "cell_type": "code",
   "execution_count": 1,
   "metadata": {
    "collapsed": true
   },
   "outputs": [],
   "source": [
    "import openml\n",
    "import pandas as pd"
   ]
  },
  {
   "cell_type": "code",
   "execution_count": 2,
   "metadata": {
    "collapsed": true
   },
   "outputs": [],
   "source": [
    "tasks = openml.tasks.list_tasks()\n",
    "datasets = openml.datasets.list_datasets()"
   ]
  },
  {
   "cell_type": "code",
   "execution_count": 15,
   "metadata": {
    "collapsed": false
   },
   "outputs": [
    {
     "data": {
      "text/html": [
       "<div>\n",
       "<style>\n",
       "    .dataframe thead tr:only-child th {\n",
       "        text-align: right;\n",
       "    }\n",
       "\n",
       "    .dataframe thead th {\n",
       "        text-align: left;\n",
       "    }\n",
       "\n",
       "    .dataframe tbody tr th {\n",
       "        vertical-align: top;\n",
       "    }\n",
       "</style>\n",
       "<table border=\"1\" class=\"dataframe\">\n",
       "  <thead>\n",
       "    <tr style=\"text-align: right;\">\n",
       "      <th></th>\n",
       "      <th>NumberOfNumericFeatures</th>\n",
       "      <th>NumberOfSymbolicFeatures</th>\n",
       "      <th>name</th>\n",
       "      <th>task_type</th>\n",
       "      <th>source_data</th>\n",
       "      <th>NumberOfMissingValues</th>\n",
       "      <th>tid</th>\n",
       "      <th>NumberOfClasses</th>\n",
       "      <th>NumberOfFeatures</th>\n",
       "      <th>NumberOfInstances</th>\n",
       "      <th>...</th>\n",
       "      <th>target_feature</th>\n",
       "      <th>number_samples</th>\n",
       "      <th>cost_matrix</th>\n",
       "      <th>source_data_labeled</th>\n",
       "      <th>target_feature_right</th>\n",
       "      <th>target_feature_event</th>\n",
       "      <th>target_feature_left</th>\n",
       "      <th>quality_measure</th>\n",
       "      <th>target_value</th>\n",
       "      <th>time_limit</th>\n",
       "    </tr>\n",
       "  </thead>\n",
       "  <tbody>\n",
       "    <tr>\n",
       "      <th>1</th>\n",
       "      <td>6</td>\n",
       "      <td>33</td>\n",
       "      <td>anneal</td>\n",
       "      <td>Supervised Classification</td>\n",
       "      <td>1</td>\n",
       "      <td>0</td>\n",
       "      <td>1</td>\n",
       "      <td>6</td>\n",
       "      <td>39</td>\n",
       "      <td>898</td>\n",
       "      <td>...</td>\n",
       "      <td>class</td>\n",
       "      <td>NaN</td>\n",
       "      <td>NaN</td>\n",
       "      <td>NaN</td>\n",
       "      <td>NaN</td>\n",
       "      <td>NaN</td>\n",
       "      <td>NaN</td>\n",
       "      <td>NaN</td>\n",
       "      <td>NaN</td>\n",
       "      <td>NaN</td>\n",
       "    </tr>\n",
       "    <tr>\n",
       "      <th>2</th>\n",
       "      <td>6</td>\n",
       "      <td>33</td>\n",
       "      <td>anneal</td>\n",
       "      <td>Supervised Classification</td>\n",
       "      <td>2</td>\n",
       "      <td>22175</td>\n",
       "      <td>2</td>\n",
       "      <td>6</td>\n",
       "      <td>39</td>\n",
       "      <td>898</td>\n",
       "      <td>...</td>\n",
       "      <td>class</td>\n",
       "      <td>NaN</td>\n",
       "      <td>NaN</td>\n",
       "      <td>NaN</td>\n",
       "      <td>NaN</td>\n",
       "      <td>NaN</td>\n",
       "      <td>NaN</td>\n",
       "      <td>NaN</td>\n",
       "      <td>NaN</td>\n",
       "      <td>NaN</td>\n",
       "    </tr>\n",
       "    <tr>\n",
       "      <th>3</th>\n",
       "      <td>0</td>\n",
       "      <td>37</td>\n",
       "      <td>kr-vs-kp</td>\n",
       "      <td>Supervised Classification</td>\n",
       "      <td>3</td>\n",
       "      <td>0</td>\n",
       "      <td>3</td>\n",
       "      <td>2</td>\n",
       "      <td>37</td>\n",
       "      <td>3196</td>\n",
       "      <td>...</td>\n",
       "      <td>class</td>\n",
       "      <td>NaN</td>\n",
       "      <td>NaN</td>\n",
       "      <td>NaN</td>\n",
       "      <td>NaN</td>\n",
       "      <td>NaN</td>\n",
       "      <td>NaN</td>\n",
       "      <td>NaN</td>\n",
       "      <td>NaN</td>\n",
       "      <td>NaN</td>\n",
       "    </tr>\n",
       "    <tr>\n",
       "      <th>4</th>\n",
       "      <td>8</td>\n",
       "      <td>9</td>\n",
       "      <td>labor</td>\n",
       "      <td>Supervised Classification</td>\n",
       "      <td>4</td>\n",
       "      <td>326</td>\n",
       "      <td>4</td>\n",
       "      <td>2</td>\n",
       "      <td>17</td>\n",
       "      <td>57</td>\n",
       "      <td>...</td>\n",
       "      <td>class</td>\n",
       "      <td>NaN</td>\n",
       "      <td>NaN</td>\n",
       "      <td>NaN</td>\n",
       "      <td>NaN</td>\n",
       "      <td>NaN</td>\n",
       "      <td>NaN</td>\n",
       "      <td>NaN</td>\n",
       "      <td>NaN</td>\n",
       "      <td>NaN</td>\n",
       "    </tr>\n",
       "    <tr>\n",
       "      <th>5</th>\n",
       "      <td>206</td>\n",
       "      <td>74</td>\n",
       "      <td>arrhythmia</td>\n",
       "      <td>Supervised Classification</td>\n",
       "      <td>5</td>\n",
       "      <td>408</td>\n",
       "      <td>5</td>\n",
       "      <td>16</td>\n",
       "      <td>280</td>\n",
       "      <td>452</td>\n",
       "      <td>...</td>\n",
       "      <td>class</td>\n",
       "      <td>NaN</td>\n",
       "      <td>NaN</td>\n",
       "      <td>NaN</td>\n",
       "      <td>NaN</td>\n",
       "      <td>NaN</td>\n",
       "      <td>NaN</td>\n",
       "      <td>NaN</td>\n",
       "      <td>NaN</td>\n",
       "      <td>NaN</td>\n",
       "    </tr>\n",
       "  </tbody>\n",
       "</table>\n",
       "<p>5 rows × 29 columns</p>\n",
       "</div>"
      ],
      "text/plain": [
       "   NumberOfNumericFeatures  NumberOfSymbolicFeatures        name  \\\n",
       "1                        6                        33      anneal   \n",
       "2                        6                        33      anneal   \n",
       "3                        0                        37    kr-vs-kp   \n",
       "4                        8                         9       labor   \n",
       "5                      206                        74  arrhythmia   \n",
       "\n",
       "                   task_type source_data  NumberOfMissingValues  tid  \\\n",
       "1  Supervised Classification           1                      0    1   \n",
       "2  Supervised Classification           2                  22175    2   \n",
       "3  Supervised Classification           3                      0    3   \n",
       "4  Supervised Classification           4                    326    4   \n",
       "5  Supervised Classification           5                    408    5   \n",
       "\n",
       "   NumberOfClasses  NumberOfFeatures  NumberOfInstances    ...      \\\n",
       "1                6                39                898    ...       \n",
       "2                6                39                898    ...       \n",
       "3                2                37               3196    ...       \n",
       "4                2                17                 57    ...       \n",
       "5               16               280                452    ...       \n",
       "\n",
       "   target_feature  number_samples cost_matrix  source_data_labeled  \\\n",
       "1           class             NaN         NaN                  NaN   \n",
       "2           class             NaN         NaN                  NaN   \n",
       "3           class             NaN         NaN                  NaN   \n",
       "4           class             NaN         NaN                  NaN   \n",
       "5           class             NaN         NaN                  NaN   \n",
       "\n",
       "   target_feature_right target_feature_event  target_feature_left  \\\n",
       "1                   NaN                  NaN                  NaN   \n",
       "2                   NaN                  NaN                  NaN   \n",
       "3                   NaN                  NaN                  NaN   \n",
       "4                   NaN                  NaN                  NaN   \n",
       "5                   NaN                  NaN                  NaN   \n",
       "\n",
       "  quality_measure  target_value time_limit  \n",
       "1             NaN           NaN        NaN  \n",
       "2             NaN           NaN        NaN  \n",
       "3             NaN           NaN        NaN  \n",
       "4             NaN           NaN        NaN  \n",
       "5             NaN           NaN        NaN  \n",
       "\n",
       "[5 rows x 29 columns]"
      ]
     },
     "execution_count": 15,
     "metadata": {},
     "output_type": "execute_result"
    }
   ],
   "source": [
    "tasks_df = pd.DataFrame.from_dict(tasks, orient='index') \n",
    "tasks_df.head()"
   ]
  },
  {
   "cell_type": "code",
   "execution_count": 16,
   "metadata": {
    "collapsed": false
   },
   "outputs": [
    {
     "data": {
      "text/html": [
       "<div>\n",
       "<style>\n",
       "    .dataframe thead tr:only-child th {\n",
       "        text-align: right;\n",
       "    }\n",
       "\n",
       "    .dataframe thead th {\n",
       "        text-align: left;\n",
       "    }\n",
       "\n",
       "    .dataframe tbody tr th {\n",
       "        vertical-align: top;\n",
       "    }\n",
       "</style>\n",
       "<table border=\"1\" class=\"dataframe\">\n",
       "  <thead>\n",
       "    <tr style=\"text-align: right;\">\n",
       "      <th></th>\n",
       "      <th>tid</th>\n",
       "      <th>did</th>\n",
       "      <th>NumberOfMissingValues</th>\n",
       "      <th>MajorityClassSize</th>\n",
       "      <th>NumberOfSymbolicFeatures</th>\n",
       "    </tr>\n",
       "  </thead>\n",
       "  <tbody>\n",
       "    <tr>\n",
       "      <th>1</th>\n",
       "      <td>1</td>\n",
       "      <td>1</td>\n",
       "      <td>0</td>\n",
       "      <td>684</td>\n",
       "      <td>33</td>\n",
       "    </tr>\n",
       "    <tr>\n",
       "      <th>2</th>\n",
       "      <td>2</td>\n",
       "      <td>2</td>\n",
       "      <td>22175</td>\n",
       "      <td>684</td>\n",
       "      <td>33</td>\n",
       "    </tr>\n",
       "    <tr>\n",
       "      <th>3</th>\n",
       "      <td>3</td>\n",
       "      <td>3</td>\n",
       "      <td>0</td>\n",
       "      <td>1669</td>\n",
       "      <td>37</td>\n",
       "    </tr>\n",
       "    <tr>\n",
       "      <th>4</th>\n",
       "      <td>4</td>\n",
       "      <td>4</td>\n",
       "      <td>326</td>\n",
       "      <td>37</td>\n",
       "      <td>9</td>\n",
       "    </tr>\n",
       "    <tr>\n",
       "      <th>5</th>\n",
       "      <td>5</td>\n",
       "      <td>5</td>\n",
       "      <td>408</td>\n",
       "      <td>245</td>\n",
       "      <td>74</td>\n",
       "    </tr>\n",
       "  </tbody>\n",
       "</table>\n",
       "</div>"
      ],
      "text/plain": [
       "   tid  did  NumberOfMissingValues  MajorityClassSize  \\\n",
       "1    1    1                      0                684   \n",
       "2    2    2                  22175                684   \n",
       "3    3    3                      0               1669   \n",
       "4    4    4                    326                 37   \n",
       "5    5    5                    408                245   \n",
       "\n",
       "   NumberOfSymbolicFeatures  \n",
       "1                        33  \n",
       "2                        33  \n",
       "3                        37  \n",
       "4                         9  \n",
       "5                        74  "
      ]
     },
     "execution_count": 16,
     "metadata": {},
     "output_type": "execute_result"
    }
   ],
   "source": [
    "tasks_df[['tid', 'did', 'NumberOfMissingValues', 'MajorityClassSize', 'NumberOfSymbolicFeatures']].head()"
   ]
  },
  {
   "cell_type": "code",
   "execution_count": 17,
   "metadata": {
    "collapsed": false
   },
   "outputs": [
    {
     "data": {
      "text/html": [
       "<div>\n",
       "<style>\n",
       "    .dataframe thead tr:only-child th {\n",
       "        text-align: right;\n",
       "    }\n",
       "\n",
       "    .dataframe thead th {\n",
       "        text-align: left;\n",
       "    }\n",
       "\n",
       "    .dataframe tbody tr th {\n",
       "        vertical-align: top;\n",
       "    }\n",
       "</style>\n",
       "<table border=\"1\" class=\"dataframe\">\n",
       "  <thead>\n",
       "    <tr style=\"text-align: right;\">\n",
       "      <th></th>\n",
       "      <th>did</th>\n",
       "      <th>NumberOfMissingValues</th>\n",
       "      <th>MajorityClassSize</th>\n",
       "      <th>NumberOfSymbolicFeatures</th>\n",
       "    </tr>\n",
       "  </thead>\n",
       "  <tbody>\n",
       "    <tr>\n",
       "      <th>1</th>\n",
       "      <td>1</td>\n",
       "      <td>0.0</td>\n",
       "      <td>684.0</td>\n",
       "      <td>33.0</td>\n",
       "    </tr>\n",
       "    <tr>\n",
       "      <th>2</th>\n",
       "      <td>2</td>\n",
       "      <td>22175.0</td>\n",
       "      <td>684.0</td>\n",
       "      <td>33.0</td>\n",
       "    </tr>\n",
       "    <tr>\n",
       "      <th>3</th>\n",
       "      <td>3</td>\n",
       "      <td>0.0</td>\n",
       "      <td>1669.0</td>\n",
       "      <td>37.0</td>\n",
       "    </tr>\n",
       "    <tr>\n",
       "      <th>4</th>\n",
       "      <td>4</td>\n",
       "      <td>326.0</td>\n",
       "      <td>37.0</td>\n",
       "      <td>9.0</td>\n",
       "    </tr>\n",
       "    <tr>\n",
       "      <th>5</th>\n",
       "      <td>5</td>\n",
       "      <td>408.0</td>\n",
       "      <td>245.0</td>\n",
       "      <td>74.0</td>\n",
       "    </tr>\n",
       "  </tbody>\n",
       "</table>\n",
       "</div>"
      ],
      "text/plain": [
       "   did  NumberOfMissingValues  MajorityClassSize  NumberOfSymbolicFeatures\n",
       "1    1                    0.0              684.0                      33.0\n",
       "2    2                22175.0              684.0                      33.0\n",
       "3    3                    0.0             1669.0                      37.0\n",
       "4    4                  326.0               37.0                       9.0\n",
       "5    5                  408.0              245.0                      74.0"
      ]
     },
     "execution_count": 17,
     "metadata": {},
     "output_type": "execute_result"
    }
   ],
   "source": [
    "# Verify the datasets with the same did do, indeed, match between the tasks and datasets metadata\n",
    "datasets_df = pd.DataFrame.from_dict(datasets, orient='index')\n",
    "datasets_df[['did', 'NumberOfMissingValues', 'MajorityClassSize', 'NumberOfSymbolicFeatures']].head()"
   ]
  },
  {
   "cell_type": "code",
   "execution_count": 25,
   "metadata": {
    "collapsed": false
   },
   "outputs": [
    {
     "data": {
      "text/plain": [
       "Index(['NumberOfNumericFeatures', 'NumberOfSymbolicFeatures', 'name',\n",
       "       'task_type', 'source_data', 'NumberOfMissingValues', 'tid',\n",
       "       'NumberOfClasses', 'NumberOfFeatures', 'NumberOfInstances',\n",
       "       'NumberOfInstancesWithMissingValues', 'MajorityClassSize', 'status',\n",
       "       'MinorityClassSize', 'ttid', 'estimation_procedure', 'did',\n",
       "       'evaluation_measures', 'MaxNominalAttDistinctValues', 'target_feature',\n",
       "       'number_samples', 'cost_matrix', 'source_data_labeled',\n",
       "       'target_feature_right', 'target_feature_event', 'target_feature_left',\n",
       "       'quality_measure', 'target_value', 'time_limit'],\n",
       "      dtype='object')"
      ]
     },
     "execution_count": 25,
     "metadata": {},
     "output_type": "execute_result"
    }
   ],
   "source": [
    "tasks_df.columns"
   ]
  },
  {
   "cell_type": "code",
   "execution_count": 20,
   "metadata": {
    "collapsed": false
   },
   "outputs": [
    {
     "data": {
      "text/plain": [
       "Clustering                               19497\n",
       "Supervised Regression                    18664\n",
       "Subgroup Discovery                        3973\n",
       "Supervised Classification                 2416\n",
       "Supervised Data Stream Classification      786\n",
       "Learning Curve                             541\n",
       "Survival Analysis                            4\n",
       "Machine Learning Challenge                   2\n",
       "Name: task_type, dtype: int64"
      ]
     },
     "execution_count": 20,
     "metadata": {},
     "output_type": "execute_result"
    }
   ],
   "source": [
    "# the number of tasks by task type\n",
    "tasks_df.task_type.value_counts()"
   ]
  },
  {
   "cell_type": "code",
   "execution_count": 26,
   "metadata": {
    "collapsed": false
   },
   "outputs": [
    {
     "data": {
      "text/plain": [
       "18664"
      ]
     },
     "execution_count": 26,
     "metadata": {},
     "output_type": "execute_result"
    }
   ],
   "source": [
    "len(tasks_df[tasks_df.task_type == 'Supervised Regression'])"
   ]
  },
  {
   "cell_type": "code",
   "execution_count": 29,
   "metadata": {
    "collapsed": false
   },
   "outputs": [
    {
     "data": {
      "text/plain": [
       "array([  189,   190,   191, ..., 40462,  1577, 40505])"
      ]
     },
     "execution_count": 29,
     "metadata": {},
     "output_type": "execute_result"
    }
   ],
   "source": [
    "tasks_df[tasks_df.task_type == 'Supervised Regression'].did.values"
   ]
  }
 ],
 "metadata": {
  "kernelspec": {
   "display_name": "Python 3",
   "language": "python",
   "name": "python3"
  },
  "language_info": {
   "codemirror_mode": {
    "name": "ipython",
    "version": 3
   },
   "file_extension": ".py",
   "mimetype": "text/x-python",
   "name": "python",
   "nbconvert_exporter": "python",
   "pygments_lexer": "ipython3",
   "version": "3.4.2"
  }
 },
 "nbformat": 4,
 "nbformat_minor": 2
}
